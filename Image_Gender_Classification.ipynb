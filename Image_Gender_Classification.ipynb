{
  "nbformat": 4,
  "nbformat_minor": 0,
  "metadata": {
    "colab": {
      "name": "Image Gender Classification.ipynb",
      "provenance": [],
      "collapsed_sections": []
    },
    "kernelspec": {
      "name": "python3",
      "display_name": "Python 3"
    },
    "language_info": {
      "name": "python"
    }
  },
  "cells": [
    {
      "cell_type": "code",
      "execution_count": 41,
      "metadata": {
        "id": "BymtGoHSDJQe"
      },
      "outputs": [],
      "source": [
        "import pandas as pd\n",
        "import numpy as np\n",
        "import matplotlib.pyplot as plt\n",
        "import io\n",
        "from PIL import Image\n",
        "from keras import models\n",
        "from keras import layers\n",
        "from tensorflow.keras.utils import to_categorical\n",
        "from keras import optimizers\n",
        "from tensorflow.keras.optimizers import RMSprop\n",
        "from keras.preprocessing.image import ImageDataGenerator\n",
        "from keras.preprocessing import image\n",
        "import os"
      ]
    },
    {
      "cell_type": "code",
      "source": [
        "#Importing train, eval, and the test sets\n",
        "\n",
        "train=pd.read_parquet('https://huggingface.co/datasets/myvision/gender-classification/resolve/main/data/train-00000-of-00001.parquet')\n",
        "eval_=pd.read_parquet('https://huggingface.co/datasets/myvision/gender-classification/resolve/main/data/eval-00000-of-00001.parquet')\n",
        "test=pd.read_parquet('https://huggingface.co/datasets/myvision/gender-classification/resolve/main/data/test-00000-of-00001.parquet')"
      ],
      "metadata": {
        "id": "drEVZZr9DMAt"
      },
      "execution_count": 2,
      "outputs": []
    },
    {
      "cell_type": "code",
      "source": [
        "# Looking at the first 5 rows\n",
        "\n",
        "train.head()"
      ],
      "metadata": {
        "colab": {
          "base_uri": "https://localhost:8080/",
          "height": 206
        },
        "id": "zHnecQShDM1W",
        "outputId": "d99a43af-922b-42df-cd78-342a795555f4"
      },
      "execution_count": 3,
      "outputs": [
        {
          "output_type": "execute_result",
          "data": {
            "text/plain": [
              "                                               image  label\n",
              "0  {'bytes': b'\\xff\\xd8\\xff\\xe0\\x00\\x10JFIF\\x00\\x...      0\n",
              "1  {'bytes': b'\\xff\\xd8\\xff\\xe0\\x00\\x10JFIF\\x00\\x...      0\n",
              "2  {'bytes': b'\\xff\\xd8\\xff\\xe0\\x00\\x10JFIF\\x00\\x...      0\n",
              "3  {'bytes': b'\\xff\\xd8\\xff\\xe0\\x00\\x10JFIF\\x00\\x...      0\n",
              "4  {'bytes': b'\\xff\\xd8\\xff\\xe0\\x00\\x10JFIF\\x00\\x...      0"
            ],
            "text/html": [
              "\n",
              "  <div id=\"df-c79b1259-7ba0-4ec7-b0b4-ae245f17064b\">\n",
              "    <div class=\"colab-df-container\">\n",
              "      <div>\n",
              "<style scoped>\n",
              "    .dataframe tbody tr th:only-of-type {\n",
              "        vertical-align: middle;\n",
              "    }\n",
              "\n",
              "    .dataframe tbody tr th {\n",
              "        vertical-align: top;\n",
              "    }\n",
              "\n",
              "    .dataframe thead th {\n",
              "        text-align: right;\n",
              "    }\n",
              "</style>\n",
              "<table border=\"1\" class=\"dataframe\">\n",
              "  <thead>\n",
              "    <tr style=\"text-align: right;\">\n",
              "      <th></th>\n",
              "      <th>image</th>\n",
              "      <th>label</th>\n",
              "    </tr>\n",
              "  </thead>\n",
              "  <tbody>\n",
              "    <tr>\n",
              "      <th>0</th>\n",
              "      <td>{'bytes': b'\\xff\\xd8\\xff\\xe0\\x00\\x10JFIF\\x00\\x...</td>\n",
              "      <td>0</td>\n",
              "    </tr>\n",
              "    <tr>\n",
              "      <th>1</th>\n",
              "      <td>{'bytes': b'\\xff\\xd8\\xff\\xe0\\x00\\x10JFIF\\x00\\x...</td>\n",
              "      <td>0</td>\n",
              "    </tr>\n",
              "    <tr>\n",
              "      <th>2</th>\n",
              "      <td>{'bytes': b'\\xff\\xd8\\xff\\xe0\\x00\\x10JFIF\\x00\\x...</td>\n",
              "      <td>0</td>\n",
              "    </tr>\n",
              "    <tr>\n",
              "      <th>3</th>\n",
              "      <td>{'bytes': b'\\xff\\xd8\\xff\\xe0\\x00\\x10JFIF\\x00\\x...</td>\n",
              "      <td>0</td>\n",
              "    </tr>\n",
              "    <tr>\n",
              "      <th>4</th>\n",
              "      <td>{'bytes': b'\\xff\\xd8\\xff\\xe0\\x00\\x10JFIF\\x00\\x...</td>\n",
              "      <td>0</td>\n",
              "    </tr>\n",
              "  </tbody>\n",
              "</table>\n",
              "</div>\n",
              "      <button class=\"colab-df-convert\" onclick=\"convertToInteractive('df-c79b1259-7ba0-4ec7-b0b4-ae245f17064b')\"\n",
              "              title=\"Convert this dataframe to an interactive table.\"\n",
              "              style=\"display:none;\">\n",
              "        \n",
              "  <svg xmlns=\"http://www.w3.org/2000/svg\" height=\"24px\"viewBox=\"0 0 24 24\"\n",
              "       width=\"24px\">\n",
              "    <path d=\"M0 0h24v24H0V0z\" fill=\"none\"/>\n",
              "    <path d=\"M18.56 5.44l.94 2.06.94-2.06 2.06-.94-2.06-.94-.94-2.06-.94 2.06-2.06.94zm-11 1L8.5 8.5l.94-2.06 2.06-.94-2.06-.94L8.5 2.5l-.94 2.06-2.06.94zm10 10l.94 2.06.94-2.06 2.06-.94-2.06-.94-.94-2.06-.94 2.06-2.06.94z\"/><path d=\"M17.41 7.96l-1.37-1.37c-.4-.4-.92-.59-1.43-.59-.52 0-1.04.2-1.43.59L10.3 9.45l-7.72 7.72c-.78.78-.78 2.05 0 2.83L4 21.41c.39.39.9.59 1.41.59.51 0 1.02-.2 1.41-.59l7.78-7.78 2.81-2.81c.8-.78.8-2.07 0-2.86zM5.41 20L4 18.59l7.72-7.72 1.47 1.35L5.41 20z\"/>\n",
              "  </svg>\n",
              "      </button>\n",
              "      \n",
              "  <style>\n",
              "    .colab-df-container {\n",
              "      display:flex;\n",
              "      flex-wrap:wrap;\n",
              "      gap: 12px;\n",
              "    }\n",
              "\n",
              "    .colab-df-convert {\n",
              "      background-color: #E8F0FE;\n",
              "      border: none;\n",
              "      border-radius: 50%;\n",
              "      cursor: pointer;\n",
              "      display: none;\n",
              "      fill: #1967D2;\n",
              "      height: 32px;\n",
              "      padding: 0 0 0 0;\n",
              "      width: 32px;\n",
              "    }\n",
              "\n",
              "    .colab-df-convert:hover {\n",
              "      background-color: #E2EBFA;\n",
              "      box-shadow: 0px 1px 2px rgba(60, 64, 67, 0.3), 0px 1px 3px 1px rgba(60, 64, 67, 0.15);\n",
              "      fill: #174EA6;\n",
              "    }\n",
              "\n",
              "    [theme=dark] .colab-df-convert {\n",
              "      background-color: #3B4455;\n",
              "      fill: #D2E3FC;\n",
              "    }\n",
              "\n",
              "    [theme=dark] .colab-df-convert:hover {\n",
              "      background-color: #434B5C;\n",
              "      box-shadow: 0px 1px 3px 1px rgba(0, 0, 0, 0.15);\n",
              "      filter: drop-shadow(0px 1px 2px rgba(0, 0, 0, 0.3));\n",
              "      fill: #FFFFFF;\n",
              "    }\n",
              "  </style>\n",
              "\n",
              "      <script>\n",
              "        const buttonEl =\n",
              "          document.querySelector('#df-c79b1259-7ba0-4ec7-b0b4-ae245f17064b button.colab-df-convert');\n",
              "        buttonEl.style.display =\n",
              "          google.colab.kernel.accessAllowed ? 'block' : 'none';\n",
              "\n",
              "        async function convertToInteractive(key) {\n",
              "          const element = document.querySelector('#df-c79b1259-7ba0-4ec7-b0b4-ae245f17064b');\n",
              "          const dataTable =\n",
              "            await google.colab.kernel.invokeFunction('convertToInteractive',\n",
              "                                                     [key], {});\n",
              "          if (!dataTable) return;\n",
              "\n",
              "          const docLinkHtml = 'Like what you see? Visit the ' +\n",
              "            '<a target=\"_blank\" href=https://colab.research.google.com/notebooks/data_table.ipynb>data table notebook</a>'\n",
              "            + ' to learn more about interactive tables.';\n",
              "          element.innerHTML = '';\n",
              "          dataTable['output_type'] = 'display_data';\n",
              "          await google.colab.output.renderOutput(dataTable, element);\n",
              "          const docLink = document.createElement('div');\n",
              "          docLink.innerHTML = docLinkHtml;\n",
              "          element.appendChild(docLink);\n",
              "        }\n",
              "      </script>\n",
              "    </div>\n",
              "  </div>\n",
              "  "
            ]
          },
          "metadata": {},
          "execution_count": 3
        }
      ]
    },
    {
      "cell_type": "code",
      "source": [
        "# Looking at the data types and the shape of the data\n",
        "\n",
        "print(train.dtypes)\n",
        "print(\"==================\")\n",
        "print(f\"Shape of the data is: {train.shape}\")"
      ],
      "metadata": {
        "colab": {
          "base_uri": "https://localhost:8080/"
        },
        "id": "c3PWhzUCDU07",
        "outputId": "5c28f872-83a1-4c01-c996-e612d8da9a73"
      },
      "execution_count": 4,
      "outputs": [
        {
          "output_type": "stream",
          "name": "stdout",
          "text": [
            "image    object\n",
            "label     int64\n",
            "dtype: object\n",
            "==================\n",
            "Shape of the data is: (5000, 2)\n"
          ]
        }
      ]
    },
    {
      "cell_type": "code",
      "source": [
        "train.head()"
      ],
      "metadata": {
        "colab": {
          "base_uri": "https://localhost:8080/",
          "height": 206
        },
        "id": "UoPa2K8iQ6wM",
        "outputId": "481e4d3e-c5ec-451b-9f9e-d8463fa99c5c"
      },
      "execution_count": 5,
      "outputs": [
        {
          "output_type": "execute_result",
          "data": {
            "text/plain": [
              "                                               image  label\n",
              "0  {'bytes': b'\\xff\\xd8\\xff\\xe0\\x00\\x10JFIF\\x00\\x...      0\n",
              "1  {'bytes': b'\\xff\\xd8\\xff\\xe0\\x00\\x10JFIF\\x00\\x...      0\n",
              "2  {'bytes': b'\\xff\\xd8\\xff\\xe0\\x00\\x10JFIF\\x00\\x...      0\n",
              "3  {'bytes': b'\\xff\\xd8\\xff\\xe0\\x00\\x10JFIF\\x00\\x...      0\n",
              "4  {'bytes': b'\\xff\\xd8\\xff\\xe0\\x00\\x10JFIF\\x00\\x...      0"
            ],
            "text/html": [
              "\n",
              "  <div id=\"df-90d399b2-ee43-47cf-a967-37a0d239b474\">\n",
              "    <div class=\"colab-df-container\">\n",
              "      <div>\n",
              "<style scoped>\n",
              "    .dataframe tbody tr th:only-of-type {\n",
              "        vertical-align: middle;\n",
              "    }\n",
              "\n",
              "    .dataframe tbody tr th {\n",
              "        vertical-align: top;\n",
              "    }\n",
              "\n",
              "    .dataframe thead th {\n",
              "        text-align: right;\n",
              "    }\n",
              "</style>\n",
              "<table border=\"1\" class=\"dataframe\">\n",
              "  <thead>\n",
              "    <tr style=\"text-align: right;\">\n",
              "      <th></th>\n",
              "      <th>image</th>\n",
              "      <th>label</th>\n",
              "    </tr>\n",
              "  </thead>\n",
              "  <tbody>\n",
              "    <tr>\n",
              "      <th>0</th>\n",
              "      <td>{'bytes': b'\\xff\\xd8\\xff\\xe0\\x00\\x10JFIF\\x00\\x...</td>\n",
              "      <td>0</td>\n",
              "    </tr>\n",
              "    <tr>\n",
              "      <th>1</th>\n",
              "      <td>{'bytes': b'\\xff\\xd8\\xff\\xe0\\x00\\x10JFIF\\x00\\x...</td>\n",
              "      <td>0</td>\n",
              "    </tr>\n",
              "    <tr>\n",
              "      <th>2</th>\n",
              "      <td>{'bytes': b'\\xff\\xd8\\xff\\xe0\\x00\\x10JFIF\\x00\\x...</td>\n",
              "      <td>0</td>\n",
              "    </tr>\n",
              "    <tr>\n",
              "      <th>3</th>\n",
              "      <td>{'bytes': b'\\xff\\xd8\\xff\\xe0\\x00\\x10JFIF\\x00\\x...</td>\n",
              "      <td>0</td>\n",
              "    </tr>\n",
              "    <tr>\n",
              "      <th>4</th>\n",
              "      <td>{'bytes': b'\\xff\\xd8\\xff\\xe0\\x00\\x10JFIF\\x00\\x...</td>\n",
              "      <td>0</td>\n",
              "    </tr>\n",
              "  </tbody>\n",
              "</table>\n",
              "</div>\n",
              "      <button class=\"colab-df-convert\" onclick=\"convertToInteractive('df-90d399b2-ee43-47cf-a967-37a0d239b474')\"\n",
              "              title=\"Convert this dataframe to an interactive table.\"\n",
              "              style=\"display:none;\">\n",
              "        \n",
              "  <svg xmlns=\"http://www.w3.org/2000/svg\" height=\"24px\"viewBox=\"0 0 24 24\"\n",
              "       width=\"24px\">\n",
              "    <path d=\"M0 0h24v24H0V0z\" fill=\"none\"/>\n",
              "    <path d=\"M18.56 5.44l.94 2.06.94-2.06 2.06-.94-2.06-.94-.94-2.06-.94 2.06-2.06.94zm-11 1L8.5 8.5l.94-2.06 2.06-.94-2.06-.94L8.5 2.5l-.94 2.06-2.06.94zm10 10l.94 2.06.94-2.06 2.06-.94-2.06-.94-.94-2.06-.94 2.06-2.06.94z\"/><path d=\"M17.41 7.96l-1.37-1.37c-.4-.4-.92-.59-1.43-.59-.52 0-1.04.2-1.43.59L10.3 9.45l-7.72 7.72c-.78.78-.78 2.05 0 2.83L4 21.41c.39.39.9.59 1.41.59.51 0 1.02-.2 1.41-.59l7.78-7.78 2.81-2.81c.8-.78.8-2.07 0-2.86zM5.41 20L4 18.59l7.72-7.72 1.47 1.35L5.41 20z\"/>\n",
              "  </svg>\n",
              "      </button>\n",
              "      \n",
              "  <style>\n",
              "    .colab-df-container {\n",
              "      display:flex;\n",
              "      flex-wrap:wrap;\n",
              "      gap: 12px;\n",
              "    }\n",
              "\n",
              "    .colab-df-convert {\n",
              "      background-color: #E8F0FE;\n",
              "      border: none;\n",
              "      border-radius: 50%;\n",
              "      cursor: pointer;\n",
              "      display: none;\n",
              "      fill: #1967D2;\n",
              "      height: 32px;\n",
              "      padding: 0 0 0 0;\n",
              "      width: 32px;\n",
              "    }\n",
              "\n",
              "    .colab-df-convert:hover {\n",
              "      background-color: #E2EBFA;\n",
              "      box-shadow: 0px 1px 2px rgba(60, 64, 67, 0.3), 0px 1px 3px 1px rgba(60, 64, 67, 0.15);\n",
              "      fill: #174EA6;\n",
              "    }\n",
              "\n",
              "    [theme=dark] .colab-df-convert {\n",
              "      background-color: #3B4455;\n",
              "      fill: #D2E3FC;\n",
              "    }\n",
              "\n",
              "    [theme=dark] .colab-df-convert:hover {\n",
              "      background-color: #434B5C;\n",
              "      box-shadow: 0px 1px 3px 1px rgba(0, 0, 0, 0.15);\n",
              "      filter: drop-shadow(0px 1px 2px rgba(0, 0, 0, 0.3));\n",
              "      fill: #FFFFFF;\n",
              "    }\n",
              "  </style>\n",
              "\n",
              "      <script>\n",
              "        const buttonEl =\n",
              "          document.querySelector('#df-90d399b2-ee43-47cf-a967-37a0d239b474 button.colab-df-convert');\n",
              "        buttonEl.style.display =\n",
              "          google.colab.kernel.accessAllowed ? 'block' : 'none';\n",
              "\n",
              "        async function convertToInteractive(key) {\n",
              "          const element = document.querySelector('#df-90d399b2-ee43-47cf-a967-37a0d239b474');\n",
              "          const dataTable =\n",
              "            await google.colab.kernel.invokeFunction('convertToInteractive',\n",
              "                                                     [key], {});\n",
              "          if (!dataTable) return;\n",
              "\n",
              "          const docLinkHtml = 'Like what you see? Visit the ' +\n",
              "            '<a target=\"_blank\" href=https://colab.research.google.com/notebooks/data_table.ipynb>data table notebook</a>'\n",
              "            + ' to learn more about interactive tables.';\n",
              "          element.innerHTML = '';\n",
              "          dataTable['output_type'] = 'display_data';\n",
              "          await google.colab.output.renderOutput(dataTable, element);\n",
              "          const docLink = document.createElement('div');\n",
              "          docLink.innerHTML = docLinkHtml;\n",
              "          element.appendChild(docLink);\n",
              "        }\n",
              "      </script>\n",
              "    </div>\n",
              "  </div>\n",
              "  "
            ]
          },
          "metadata": {},
          "execution_count": 5
        }
      ]
    },
    {
      "cell_type": "code",
      "source": [
        "train_females=train[train['label']==0]\n",
        "train_males=train[train['label']==1]\n",
        "\n",
        "eval_females=eval_[eval_['label']==0]\n",
        "eval_males=eval_[eval_['label']==1]\n",
        "\n",
        "test_females=test[test['label']==0]\n",
        "test_males=test[test['label']==1]"
      ],
      "metadata": {
        "id": "KjR3uc6KQFnR"
      },
      "execution_count": 6,
      "outputs": []
    },
    {
      "cell_type": "code",
      "source": [
        "# Function for converting the bytes data to numpy arrays\n",
        "\n",
        "def convert_bytes(data):\n",
        "    image2=[]\n",
        "    for item in data['image']:\n",
        "        image2.append(list(item.values()))\n",
        "\n",
        "    ls=[]\n",
        "    for item in range(0,len(image2)):\n",
        "        ls.append(image2[item][0])\n",
        "\n",
        "    del image2\n",
        "\n",
        "    data['image2']=ls\n",
        "\n",
        "    del ls\n",
        "\n",
        "    image3=[]\n",
        "    for item in range(0,len(data)):\n",
        "        image3.append(np.array(Image.open(io.BytesIO((data['image2'].iloc[item])))))\n",
        "\n",
        "    data['image3']=image3\n",
        "    del image3\n",
        "\n",
        "    data.drop(['image','image2'], axis=1, inplace=True)\n",
        "    data.rename(columns={'image3':'image'}, inplace=True)\n",
        "\n",
        "    return data"
      ],
      "metadata": {
        "id": "D3U0vLpYIAsM"
      },
      "execution_count": 7,
      "outputs": []
    },
    {
      "cell_type": "code",
      "source": [
        "#Converting the byte data to arrays for all 3 datasets and 2 classes\n",
        "\n",
        "train_females_converted=convert_bytes(train_females)\n",
        "train_males_converted=convert_bytes(train_males)\n",
        "eval_females_converted=convert_bytes(eval_females)\n",
        "eval_males_converted=convert_bytes(eval_males)\n",
        "test_females_converted=convert_bytes(test_females)\n",
        "test_males_converted=convert_bytes(test_males)"
      ],
      "metadata": {
        "colab": {
          "base_uri": "https://localhost:8080/"
        },
        "id": "zNBUCe3IMhkr",
        "outputId": "68040dfe-e95d-4624-e47e-4ba04a3fbf24"
      },
      "execution_count": 8,
      "outputs": [
        {
          "output_type": "stream",
          "name": "stderr",
          "text": [
            "/usr/local/lib/python3.7/dist-packages/ipykernel_launcher.py:14: SettingWithCopyWarning: \n",
            "A value is trying to be set on a copy of a slice from a DataFrame.\n",
            "Try using .loc[row_indexer,col_indexer] = value instead\n",
            "\n",
            "See the caveats in the documentation: https://pandas.pydata.org/pandas-docs/stable/user_guide/indexing.html#returning-a-view-versus-a-copy\n",
            "  \n",
            "/usr/local/lib/python3.7/dist-packages/ipykernel_launcher.py:22: SettingWithCopyWarning: \n",
            "A value is trying to be set on a copy of a slice from a DataFrame.\n",
            "Try using .loc[row_indexer,col_indexer] = value instead\n",
            "\n",
            "See the caveats in the documentation: https://pandas.pydata.org/pandas-docs/stable/user_guide/indexing.html#returning-a-view-versus-a-copy\n",
            "/usr/local/lib/python3.7/dist-packages/pandas/core/frame.py:4913: SettingWithCopyWarning: \n",
            "A value is trying to be set on a copy of a slice from a DataFrame\n",
            "\n",
            "See the caveats in the documentation: https://pandas.pydata.org/pandas-docs/stable/user_guide/indexing.html#returning-a-view-versus-a-copy\n",
            "  errors=errors,\n",
            "/usr/local/lib/python3.7/dist-packages/pandas/core/frame.py:5047: SettingWithCopyWarning: \n",
            "A value is trying to be set on a copy of a slice from a DataFrame\n",
            "\n",
            "See the caveats in the documentation: https://pandas.pydata.org/pandas-docs/stable/user_guide/indexing.html#returning-a-view-versus-a-copy\n",
            "  errors=errors,\n"
          ]
        }
      ]
    },
    {
      "cell_type": "code",
      "source": [
        "#Looking at the first five columns of the converted test data\n",
        "test_females_converted.head()"
      ],
      "metadata": {
        "colab": {
          "base_uri": "https://localhost:8080/",
          "height": 206
        },
        "id": "pSAH9y4PMjOR",
        "outputId": "a4333790-e60b-4ee5-b5fc-9c97c055ed8f"
      },
      "execution_count": 9,
      "outputs": [
        {
          "output_type": "execute_result",
          "data": {
            "text/plain": [
              "   label                                              image\n",
              "0      0  [[[206, 206, 142], [206, 206, 142], [208, 210,...\n",
              "1      0  [[[36, 37, 39], [32, 33, 35], [33, 34, 36], [3...\n",
              "2      0  [[[209, 205, 193], [209, 205, 193], [208, 204,...\n",
              "3      0  [[[212, 224, 214], [221, 231, 222], [230, 237,...\n",
              "4      0  [[[146, 50, 52], [146, 54, 55], [143, 53, 52],..."
            ],
            "text/html": [
              "\n",
              "  <div id=\"df-9bbe48f0-0947-4a06-af72-4d89d1566a2b\">\n",
              "    <div class=\"colab-df-container\">\n",
              "      <div>\n",
              "<style scoped>\n",
              "    .dataframe tbody tr th:only-of-type {\n",
              "        vertical-align: middle;\n",
              "    }\n",
              "\n",
              "    .dataframe tbody tr th {\n",
              "        vertical-align: top;\n",
              "    }\n",
              "\n",
              "    .dataframe thead th {\n",
              "        text-align: right;\n",
              "    }\n",
              "</style>\n",
              "<table border=\"1\" class=\"dataframe\">\n",
              "  <thead>\n",
              "    <tr style=\"text-align: right;\">\n",
              "      <th></th>\n",
              "      <th>label</th>\n",
              "      <th>image</th>\n",
              "    </tr>\n",
              "  </thead>\n",
              "  <tbody>\n",
              "    <tr>\n",
              "      <th>0</th>\n",
              "      <td>0</td>\n",
              "      <td>[[[206, 206, 142], [206, 206, 142], [208, 210,...</td>\n",
              "    </tr>\n",
              "    <tr>\n",
              "      <th>1</th>\n",
              "      <td>0</td>\n",
              "      <td>[[[36, 37, 39], [32, 33, 35], [33, 34, 36], [3...</td>\n",
              "    </tr>\n",
              "    <tr>\n",
              "      <th>2</th>\n",
              "      <td>0</td>\n",
              "      <td>[[[209, 205, 193], [209, 205, 193], [208, 204,...</td>\n",
              "    </tr>\n",
              "    <tr>\n",
              "      <th>3</th>\n",
              "      <td>0</td>\n",
              "      <td>[[[212, 224, 214], [221, 231, 222], [230, 237,...</td>\n",
              "    </tr>\n",
              "    <tr>\n",
              "      <th>4</th>\n",
              "      <td>0</td>\n",
              "      <td>[[[146, 50, 52], [146, 54, 55], [143, 53, 52],...</td>\n",
              "    </tr>\n",
              "  </tbody>\n",
              "</table>\n",
              "</div>\n",
              "      <button class=\"colab-df-convert\" onclick=\"convertToInteractive('df-9bbe48f0-0947-4a06-af72-4d89d1566a2b')\"\n",
              "              title=\"Convert this dataframe to an interactive table.\"\n",
              "              style=\"display:none;\">\n",
              "        \n",
              "  <svg xmlns=\"http://www.w3.org/2000/svg\" height=\"24px\"viewBox=\"0 0 24 24\"\n",
              "       width=\"24px\">\n",
              "    <path d=\"M0 0h24v24H0V0z\" fill=\"none\"/>\n",
              "    <path d=\"M18.56 5.44l.94 2.06.94-2.06 2.06-.94-2.06-.94-.94-2.06-.94 2.06-2.06.94zm-11 1L8.5 8.5l.94-2.06 2.06-.94-2.06-.94L8.5 2.5l-.94 2.06-2.06.94zm10 10l.94 2.06.94-2.06 2.06-.94-2.06-.94-.94-2.06-.94 2.06-2.06.94z\"/><path d=\"M17.41 7.96l-1.37-1.37c-.4-.4-.92-.59-1.43-.59-.52 0-1.04.2-1.43.59L10.3 9.45l-7.72 7.72c-.78.78-.78 2.05 0 2.83L4 21.41c.39.39.9.59 1.41.59.51 0 1.02-.2 1.41-.59l7.78-7.78 2.81-2.81c.8-.78.8-2.07 0-2.86zM5.41 20L4 18.59l7.72-7.72 1.47 1.35L5.41 20z\"/>\n",
              "  </svg>\n",
              "      </button>\n",
              "      \n",
              "  <style>\n",
              "    .colab-df-container {\n",
              "      display:flex;\n",
              "      flex-wrap:wrap;\n",
              "      gap: 12px;\n",
              "    }\n",
              "\n",
              "    .colab-df-convert {\n",
              "      background-color: #E8F0FE;\n",
              "      border: none;\n",
              "      border-radius: 50%;\n",
              "      cursor: pointer;\n",
              "      display: none;\n",
              "      fill: #1967D2;\n",
              "      height: 32px;\n",
              "      padding: 0 0 0 0;\n",
              "      width: 32px;\n",
              "    }\n",
              "\n",
              "    .colab-df-convert:hover {\n",
              "      background-color: #E2EBFA;\n",
              "      box-shadow: 0px 1px 2px rgba(60, 64, 67, 0.3), 0px 1px 3px 1px rgba(60, 64, 67, 0.15);\n",
              "      fill: #174EA6;\n",
              "    }\n",
              "\n",
              "    [theme=dark] .colab-df-convert {\n",
              "      background-color: #3B4455;\n",
              "      fill: #D2E3FC;\n",
              "    }\n",
              "\n",
              "    [theme=dark] .colab-df-convert:hover {\n",
              "      background-color: #434B5C;\n",
              "      box-shadow: 0px 1px 3px 1px rgba(0, 0, 0, 0.15);\n",
              "      filter: drop-shadow(0px 1px 2px rgba(0, 0, 0, 0.3));\n",
              "      fill: #FFFFFF;\n",
              "    }\n",
              "  </style>\n",
              "\n",
              "      <script>\n",
              "        const buttonEl =\n",
              "          document.querySelector('#df-9bbe48f0-0947-4a06-af72-4d89d1566a2b button.colab-df-convert');\n",
              "        buttonEl.style.display =\n",
              "          google.colab.kernel.accessAllowed ? 'block' : 'none';\n",
              "\n",
              "        async function convertToInteractive(key) {\n",
              "          const element = document.querySelector('#df-9bbe48f0-0947-4a06-af72-4d89d1566a2b');\n",
              "          const dataTable =\n",
              "            await google.colab.kernel.invokeFunction('convertToInteractive',\n",
              "                                                     [key], {});\n",
              "          if (!dataTable) return;\n",
              "\n",
              "          const docLinkHtml = 'Like what you see? Visit the ' +\n",
              "            '<a target=\"_blank\" href=https://colab.research.google.com/notebooks/data_table.ipynb>data table notebook</a>'\n",
              "            + ' to learn more about interactive tables.';\n",
              "          element.innerHTML = '';\n",
              "          dataTable['output_type'] = 'display_data';\n",
              "          await google.colab.output.renderOutput(dataTable, element);\n",
              "          const docLink = document.createElement('div');\n",
              "          docLink.innerHTML = docLinkHtml;\n",
              "          element.appendChild(docLink);\n",
              "        }\n",
              "      </script>\n",
              "    </div>\n",
              "  </div>\n",
              "  "
            ]
          },
          "metadata": {},
          "execution_count": 9
        }
      ]
    },
    {
      "cell_type": "code",
      "source": [
        "#Saving the train_males photos to local\n",
        "for item in range(0,len(train_males_converted)):\n",
        "  img = Image.fromarray(train_males_converted.image.iloc[item], 'RGB')\n",
        "  try:\n",
        "    img.save(f'/content/train_males/photo_{item}_train_males.png')\n",
        "    print(\"=====================FILE SAVED==================\")\n",
        "  except:\n",
        "    print(\"=================COULDN'T BE SAVED===============\")\n",
        "    continue"
      ],
      "metadata": {
        "id": "-Z98nlFdTUQH"
      },
      "execution_count": null,
      "outputs": []
    },
    {
      "cell_type": "code",
      "source": [
        "#Saving the train_females photos to local\n",
        "\n",
        "for item in range(0,len(train_females_converted)):\n",
        "  img = Image.fromarray(train_females_converted.image.iloc[item], 'RGB')\n",
        "  try:\n",
        "    img.save(f'/content/train_females/photo_{item}_train_females.png')\n",
        "    print(\"=====================FILE SAVED==================\")\n",
        "  except:\n",
        "    print(\"=================COULDN'T BE SAVED===============\")\n",
        "    continue"
      ],
      "metadata": {
        "id": "O7SKXqlB1Zx5"
      },
      "execution_count": null,
      "outputs": []
    },
    {
      "cell_type": "code",
      "source": [
        "#Saving the eval_males photos to local\n",
        "\n",
        "for item in range(0,len(eval_males_converted)):\n",
        "  img = Image.fromarray(eval_males_converted.image.iloc[item], 'RGB')\n",
        "  try:\n",
        "    img.save(f'/content/eval_males/photo_{item}_eval_males.png')\n",
        "  except:\n",
        "    continue"
      ],
      "metadata": {
        "id": "KW3E0egO1Z9e"
      },
      "execution_count": null,
      "outputs": []
    },
    {
      "cell_type": "code",
      "source": [
        "#Saving the eval_females photos to local\n",
        "\n",
        "for item in range(0,len(eval_females_converted)):\n",
        "  img = Image.fromarray(eval_females_converted.image.iloc[item], 'RGB')\n",
        "  try:\n",
        "    img.save(f'/content/eval_females/photo_{item}_eval_females.png')\n",
        "  except:\n",
        "    continue"
      ],
      "metadata": {
        "id": "4YtRL3s01aAJ"
      },
      "execution_count": null,
      "outputs": []
    },
    {
      "cell_type": "code",
      "source": [
        "#Saving the test_males photos to local\n",
        "\n",
        "for item in range(0,len(test_males_converted)):\n",
        "  img = Image.fromarray(test_males_converted.image.iloc[item], 'RGB')\n",
        "  try:\n",
        "    img.save(f'/content/test_males/photo_{item}_test_males.png')\n",
        "  except:\n",
        "    continue"
      ],
      "metadata": {
        "id": "UXakORpv1aDN"
      },
      "execution_count": null,
      "outputs": []
    },
    {
      "cell_type": "code",
      "source": [
        "#Saving the test_females photos to local\n",
        "\n",
        "for item in range(0,len(test_females_converted)):\n",
        "  img = Image.fromarray(test_females_converted.image.iloc[item], 'RGB')\n",
        "  try:\n",
        "    img.save(f'/content/test_females/photo_{item}_test_females.png')\n",
        "  except:\n",
        "    continue"
      ],
      "metadata": {
        "id": "YG6y2aNo1aGD"
      },
      "execution_count": null,
      "outputs": []
    },
    {
      "cell_type": "code",
      "source": [
        "#Keras Image Generator\n",
        "\n",
        "train_datagen = ImageDataGenerator(rescale=1./255)\n",
        "test_datagen = ImageDataGenerator(rescale=1./255)"
      ],
      "metadata": {
        "id": "hMtNEClbMsGM"
      },
      "execution_count": 18,
      "outputs": []
    },
    {
      "cell_type": "code",
      "source": [
        "#Creating the file paths variables\n",
        "\n",
        "base_dir = '/content/'\n",
        "train_dir = os.path.join(base_dir, 'train_dir')\n",
        "eval_dir = os.path.join(base_dir, 'eval_dir')\n",
        "test_dir = os.path.join(base_dir, 'test_dir')"
      ],
      "metadata": {
        "id": "45JpzBxF383f"
      },
      "execution_count": 26,
      "outputs": []
    },
    {
      "cell_type": "code",
      "source": [
        "#Creating the train generator\n",
        "\n",
        "train_generator = train_datagen.flow_from_directory(\n",
        "train_dir,\n",
        "target_size=(150, 150),\n",
        "batch_size=20,\n",
        "class_mode='binary')"
      ],
      "metadata": {
        "colab": {
          "base_uri": "https://localhost:8080/"
        },
        "id": "JqxrT95i3Fvt",
        "outputId": "0e0c9b30-8319-4d36-b551-f1cb3d2b3045"
      },
      "execution_count": 25,
      "outputs": [
        {
          "output_type": "stream",
          "name": "stdout",
          "text": [
            "Found 5000 images belonging to 2 classes.\n"
          ]
        }
      ]
    },
    {
      "cell_type": "code",
      "source": [
        "#Creating the validation generator\n",
        "\n",
        "eval_generator = test_datagen.flow_from_directory(\n",
        "eval_dir,\n",
        "target_size=(150, 150),\n",
        "batch_size=20,\n",
        "class_mode='binary')"
      ],
      "metadata": {
        "colab": {
          "base_uri": "https://localhost:8080/"
        },
        "id": "nRvBFGDP3Fx0",
        "outputId": "6231e104-58d0-4c3c-a2a6-af847e5876cc"
      },
      "execution_count": 29,
      "outputs": [
        {
          "output_type": "stream",
          "name": "stdout",
          "text": [
            "Found 1000 images belonging to 2 classes.\n"
          ]
        }
      ]
    },
    {
      "cell_type": "code",
      "source": [
        "#Looking at the data and batch shapes\n",
        "\n",
        "for data_batch, labels_batch in train_generator:\n",
        "  print('data batch shape:', data_batch.shape)  \n",
        "  print('labels batch shape:', labels_batch.shape)\n",
        "  break"
      ],
      "metadata": {
        "colab": {
          "base_uri": "https://localhost:8080/"
        },
        "id": "V-peWnrJ3F2r",
        "outputId": "e84418fe-5200-4b4d-9145-49d7dac7357c"
      },
      "execution_count": 30,
      "outputs": [
        {
          "output_type": "stream",
          "name": "stdout",
          "text": [
            "data batch shape: (20, 150, 150, 3)\n",
            "labels batch shape: (20,)\n"
          ]
        }
      ]
    },
    {
      "cell_type": "code",
      "source": [
        "#Building the architecture\n",
        "\n",
        "model = models.Sequential()\n",
        "model.add(layers.Conv2D(32, (3, 3), activation='relu',\n",
        "input_shape=(150, 150, 3)))\n",
        "model.add(layers.MaxPooling2D((2, 2)))\n",
        "model.add(layers.Conv2D(64, (3, 3), activation='relu'))\n",
        "model.add(layers.MaxPooling2D((2, 2)))\n",
        "model.add(layers.Conv2D(128, (3, 3), activation='relu'))\n",
        "model.add(layers.MaxPooling2D((2, 2)))\n",
        "model.add(layers.Conv2D(128, (3, 3), activation='relu'))\n",
        "model.add(layers.MaxPooling2D((2, 2)))\n",
        "model.add(layers.Flatten())\n",
        "model.add(layers.Dense(512, activation='relu'))\n",
        "model.add(layers.Dense(1, activation='sigmoid'))\n",
        "model.compile(loss='binary_crossentropy',\n",
        "optimizer=RMSprop(lr=1e-4),\n",
        "metrics=['acc'])"
      ],
      "metadata": {
        "colab": {
          "base_uri": "https://localhost:8080/"
        },
        "id": "D1wvow3XM4Lj",
        "outputId": "9aec41b1-4733-4798-e29c-7a592fa5a8c0"
      },
      "execution_count": 32,
      "outputs": [
        {
          "output_type": "stream",
          "name": "stderr",
          "text": [
            "/usr/local/lib/python3.7/dist-packages/keras/optimizer_v2/rmsprop.py:130: UserWarning: The `lr` argument is deprecated, use `learning_rate` instead.\n",
            "  super(RMSprop, self).__init__(name, **kwargs)\n"
          ]
        }
      ]
    },
    {
      "cell_type": "code",
      "source": [
        "#Training the model\n",
        "\n",
        "history = model.fit_generator(\n",
        "train_generator,\n",
        "steps_per_epoch=100,\n",
        "epochs=30,\n",
        "validation_data=eval_generator,\n",
        "validation_steps=50)"
      ],
      "metadata": {
        "colab": {
          "base_uri": "https://localhost:8080/"
        },
        "id": "hRNT3RiPRc5x",
        "outputId": "b4e69d71-7827-4970-8111-49414d9f1f9d"
      },
      "execution_count": 34,
      "outputs": [
        {
          "output_type": "stream",
          "name": "stderr",
          "text": [
            "/usr/local/lib/python3.7/dist-packages/ipykernel_launcher.py:6: UserWarning: `Model.fit_generator` is deprecated and will be removed in a future version. Please use `Model.fit`, which supports generators.\n",
            "  \n"
          ]
        },
        {
          "output_type": "stream",
          "name": "stdout",
          "text": [
            "Epoch 1/30\n",
            "100/100 [==============================] - 100s 984ms/step - loss: 0.6017 - acc: 0.6825 - val_loss: 0.4444 - val_acc: 0.8120\n",
            "Epoch 2/30\n",
            "100/100 [==============================] - 98s 976ms/step - loss: 0.4540 - acc: 0.7955 - val_loss: 0.3699 - val_acc: 0.8480\n",
            "Epoch 3/30\n",
            "100/100 [==============================] - 97s 973ms/step - loss: 0.3702 - acc: 0.8455 - val_loss: 0.3514 - val_acc: 0.8410\n",
            "Epoch 4/30\n",
            "100/100 [==============================] - 98s 976ms/step - loss: 0.3353 - acc: 0.8505 - val_loss: 0.3017 - val_acc: 0.8670\n",
            "Epoch 5/30\n",
            "100/100 [==============================] - 99s 988ms/step - loss: 0.3109 - acc: 0.8665 - val_loss: 0.2524 - val_acc: 0.8870\n",
            "Epoch 6/30\n",
            "100/100 [==============================] - 98s 981ms/step - loss: 0.2780 - acc: 0.8850 - val_loss: 0.2474 - val_acc: 0.9030\n",
            "Epoch 7/30\n",
            "100/100 [==============================] - 98s 979ms/step - loss: 0.2393 - acc: 0.9085 - val_loss: 0.2340 - val_acc: 0.9060\n",
            "Epoch 8/30\n",
            "100/100 [==============================] - 99s 994ms/step - loss: 0.2352 - acc: 0.8990 - val_loss: 0.2105 - val_acc: 0.9110\n",
            "Epoch 9/30\n",
            "100/100 [==============================] - 98s 980ms/step - loss: 0.2173 - acc: 0.9175 - val_loss: 0.2086 - val_acc: 0.9210\n",
            "Epoch 10/30\n",
            "100/100 [==============================] - 100s 1s/step - loss: 0.2088 - acc: 0.9220 - val_loss: 0.2008 - val_acc: 0.9220\n",
            "Epoch 11/30\n",
            "100/100 [==============================] - 98s 985ms/step - loss: 0.1946 - acc: 0.9255 - val_loss: 0.1986 - val_acc: 0.9160\n",
            "Epoch 12/30\n",
            "100/100 [==============================] - 100s 998ms/step - loss: 0.1932 - acc: 0.9185 - val_loss: 0.3216 - val_acc: 0.8660\n",
            "Epoch 13/30\n",
            "100/100 [==============================] - 99s 988ms/step - loss: 0.1790 - acc: 0.9335 - val_loss: 0.2185 - val_acc: 0.9170\n",
            "Epoch 14/30\n",
            "100/100 [==============================] - 100s 998ms/step - loss: 0.1802 - acc: 0.9315 - val_loss: 0.2228 - val_acc: 0.9040\n",
            "Epoch 15/30\n",
            "100/100 [==============================] - 99s 990ms/step - loss: 0.1584 - acc: 0.9365 - val_loss: 0.1688 - val_acc: 0.9330\n",
            "Epoch 16/30\n",
            "100/100 [==============================] - 99s 990ms/step - loss: 0.1528 - acc: 0.9385 - val_loss: 0.1975 - val_acc: 0.9180\n",
            "Epoch 17/30\n",
            "100/100 [==============================] - 100s 1s/step - loss: 0.1439 - acc: 0.9385 - val_loss: 0.2410 - val_acc: 0.9070\n",
            "Epoch 18/30\n",
            "100/100 [==============================] - 99s 990ms/step - loss: 0.1372 - acc: 0.9520 - val_loss: 0.1817 - val_acc: 0.9320\n",
            "Epoch 19/30\n",
            "100/100 [==============================] - 100s 1000ms/step - loss: 0.1264 - acc: 0.9465 - val_loss: 0.1695 - val_acc: 0.9340\n",
            "Epoch 20/30\n",
            "100/100 [==============================] - 99s 987ms/step - loss: 0.1234 - acc: 0.9550 - val_loss: 0.1980 - val_acc: 0.9230\n",
            "Epoch 21/30\n",
            "100/100 [==============================] - 99s 988ms/step - loss: 0.1200 - acc: 0.9570 - val_loss: 0.1990 - val_acc: 0.9250\n",
            "Epoch 22/30\n",
            "100/100 [==============================] - 100s 1s/step - loss: 0.1099 - acc: 0.9590 - val_loss: 0.2380 - val_acc: 0.9010\n",
            "Epoch 23/30\n",
            "100/100 [==============================] - 99s 991ms/step - loss: 0.1088 - acc: 0.9625 - val_loss: 0.1869 - val_acc: 0.9300\n",
            "Epoch 24/30\n",
            "100/100 [==============================] - 99s 990ms/step - loss: 0.1039 - acc: 0.9625 - val_loss: 0.2131 - val_acc: 0.9190\n",
            "Epoch 25/30\n",
            "100/100 [==============================] - 99s 988ms/step - loss: 0.1004 - acc: 0.9605 - val_loss: 0.1961 - val_acc: 0.9230\n",
            "Epoch 26/30\n",
            "100/100 [==============================] - 99s 989ms/step - loss: 0.0969 - acc: 0.9620 - val_loss: 0.2533 - val_acc: 0.9100\n",
            "Epoch 27/30\n",
            "100/100 [==============================] - 100s 1s/step - loss: 0.0900 - acc: 0.9655 - val_loss: 0.2118 - val_acc: 0.9220\n",
            "Epoch 28/30\n",
            "100/100 [==============================] - 99s 987ms/step - loss: 0.0734 - acc: 0.9715 - val_loss: 0.1851 - val_acc: 0.9370\n",
            "Epoch 29/30\n",
            "100/100 [==============================] - 99s 989ms/step - loss: 0.0821 - acc: 0.9690 - val_loss: 0.1731 - val_acc: 0.9470\n",
            "Epoch 30/30\n",
            "100/100 [==============================] - 101s 1s/step - loss: 0.0827 - acc: 0.9695 - val_loss: 0.1850 - val_acc: 0.9350\n"
          ]
        }
      ]
    },
    {
      "cell_type": "code",
      "source": [
        "#Saving the model\n",
        "\n",
        "model.save('gender_classifier_v1.h5')"
      ],
      "metadata": {
        "id": "xut6p9J1M9X-"
      },
      "execution_count": 35,
      "outputs": []
    },
    {
      "cell_type": "code",
      "source": [
        "# Plotting the history of training in terms of train acc, validation acc, train loss, and validation loss\n",
        "\n",
        "acc = history.history['acc']\n",
        "val_acc = history.history['val_acc']\n",
        "loss = history.history['loss']\n",
        "val_loss = history.history['val_loss']\n",
        "epochs = range(1, len(acc) + 1)\n",
        "plt.plot(epochs, acc, 'bo', label='Training acc')\n",
        "plt.plot(epochs, val_acc, 'b', label='Validation acc')\n",
        "plt.title('Training and validation accuracy')\n",
        "plt.legend()\n",
        "plt.figure()\n",
        "plt.plot(epochs, loss, 'bo', label='Training loss')\n",
        "plt.plot(epochs, val_loss, 'b', label='Validation loss')\n",
        "plt.title('Training and validation loss')\n",
        "plt.legend()\n",
        "plt.show()"
      ],
      "metadata": {
        "colab": {
          "base_uri": "https://localhost:8080/",
          "height": 545
        },
        "id": "rsU7DJBvPWjt",
        "outputId": "0e570dd1-9094-4088-f09f-0609983be908"
      },
      "execution_count": 36,
      "outputs": [
        {
          "output_type": "display_data",
          "data": {
            "text/plain": [
              "<Figure size 432x288 with 1 Axes>"
            ],
            "image/png": "[encoded data removed]"
          },
          "metadata": {
            "needs_background": "light"
          }
        },
        {
          "output_type": "display_data",
          "data": {
            "text/plain": [
              "<Figure size 432x288 with 1 Axes>"
            ],
            "image/png": "[encoded data removed]"
          },
          "metadata": {
            "needs_background": "light"
          }
        }
      ]
    },
    {
      "cell_type": "markdown",
      "source": [
        "It looks like there is no overfitting. So, we are going to use this model for final testing."
      ],
      "metadata": {
        "id": "2_dHXEpDbAWL"
      }
    },
    {
      "cell_type": "code",
      "source": [
        "test_generator = test_datagen.flow_from_directory(\n",
        "test_dir,\n",
        "target_size=(150, 150),\n",
        "batch_size=20,\n",
        "class_mode='binary')\n",
        "test_loss, test_acc = model.evaluate_generator(test_generator, steps=50)\n",
        "print('test acc:', test_acc)\n",
        "print('test loss:', test_loss)"
      ],
      "metadata": {
        "colab": {
          "base_uri": "https://localhost:8080/"
        },
        "id": "Or_0y6tFNAIv",
        "outputId": "d19de3be-2063-4545-c16a-bd9337591f5b"
      },
      "execution_count": 64,
      "outputs": [
        {
          "output_type": "stream",
          "name": "stdout",
          "text": [
            "Found 1000 images belonging to 2 classes.\n"
          ]
        },
        {
          "output_type": "stream",
          "name": "stderr",
          "text": [
            "/usr/local/lib/python3.7/dist-packages/ipykernel_launcher.py:6: UserWarning: `Model.evaluate_generator` is deprecated and will be removed in a future version. Please use `Model.evaluate`, which supports generators.\n",
            "  \n"
          ]
        },
        {
          "output_type": "stream",
          "name": "stdout",
          "text": [
            "test acc: 0.9169999957084656\n",
            "test loss: 0.20935499668121338\n"
          ]
        }
      ]
    },
    {
      "cell_type": "markdown",
      "source": [
        "91% accuracy is a good accuracy for this model, indicating this is a powerful model in classifying the genders."
      ],
      "metadata": {
        "id": "X2BtVoGHbMaO"
      }
    },
    {
      "cell_type": "code",
      "source": [
        "#Function for loading a new image\n",
        "\n",
        "def load_image(img_path, show=False):\n",
        "\n",
        "    img = image.load_img(img_path, target_size=(150, 150))\n",
        "    display(img)\n",
        "    img_tensor = image.img_to_array(img)\n",
        "    img_tensor = np.expand_dims(img_tensor, axis=0)\n",
        "    img_tensor /= 255.\n",
        "\n",
        "    if show:\n",
        "        plt.imshow(img_tensor[0])                           \n",
        "        plt.axis('off')\n",
        "        plt.show()\n",
        "\n",
        "    return img_tensor"
      ],
      "metadata": {
        "id": "v4jyOP9oOF8Z"
      },
      "execution_count": 47,
      "outputs": []
    },
    {
      "cell_type": "code",
      "source": [
        "# Loading a single image for prediction\n",
        "new_image = load_image('img_1.JPG')\n",
        "\n",
        "# Checking the prediction\n",
        "pred = model.predict(new_image)\n",
        "if pred[0][0]>=0.5:\n",
        "  print('Male')\n",
        "else:\n",
        "  print('Female')"
      ],
      "metadata": {
        "id": "EJLb2r-kKPmI"
      },
      "execution_count": null,
      "outputs": []
    }
  ]
}